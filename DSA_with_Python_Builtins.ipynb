{
 "cells": [
  {
   "cell_type": "markdown",
   "id": "43e1b2fc",
   "metadata": {},
   "source": [
    "# 🧠 DSA in Python with Built-ins and Standard Library\n",
    "Interactive practice notebook covering common interview problems with Python built-ins."
   ]
  },
  {
   "cell_type": "markdown",
   "id": "70ef6b65",
   "metadata": {},
   "source": [
    "## ✅ Easy Problems (Built-in Functions)"
   ]
  },
  {
   "cell_type": "code",
   "execution_count": null,
   "id": "d3e1833b",
   "metadata": {},
   "outputs": [],
   "source": [
    "# Reverse a string\n",
    "s = \"hello\"\n",
    "reversed_s = s[::-1]\n",
    "print(\"Reversed:\", reversed_s)"
   ]
  },
  {
   "cell_type": "code",
   "execution_count": null,
   "id": "1638db74",
   "metadata": {},
   "outputs": [],
   "source": [
    "# Check palindrome\n",
    "def is_palindrome(s):\n",
    "    return s == s[::-1]\n",
    "\n",
    "print(is_palindrome(\"racecar\"))"
   ]
  },
  {
   "cell_type": "code",
   "execution_count": null,
   "id": "1d19266a",
   "metadata": {},
   "outputs": [],
   "source": [
    "# Frequency count\n",
    "from collections import Counter\n",
    "nums = [1, 2, 2, 3, 3, 3]\n",
    "print(Counter(nums))"
   ]
  },
  {
   "cell_type": "markdown",
   "id": "81ce198c",
   "metadata": {},
   "source": [
    "## 🔁 Medium Problems (Two Pointers, Sliding Window, Prefix Sum)"
   ]
  },
  {
   "cell_type": "code",
   "execution_count": null,
   "id": "5d9f04ea",
   "metadata": {},
   "outputs": [],
   "source": [
    "# Two sum using two pointers\n",
    "def has_pair_with_sum(arr, target):\n",
    "    arr.sort()\n",
    "    left, right = 0, len(arr) - 1\n",
    "    while left < right:\n",
    "        total = arr[left] + arr[right]\n",
    "        if total == target:\n",
    "            return True\n",
    "        elif total < target:\n",
    "            left += 1\n",
    "        else:\n",
    "            right -= 1\n",
    "    return False\n",
    "\n",
    "print(has_pair_with_sum([1, 2, 4, 4], 8))"
   ]
  },
  {
   "cell_type": "code",
   "execution_count": null,
   "id": "788c1bae",
   "metadata": {},
   "outputs": [],
   "source": [
    "# Max sum subarray of size k\n",
    "def max_sum_subarray(arr, k):\n",
    "    window_sum = sum(arr[:k])\n",
    "    max_sum = window_sum\n",
    "    for i in range(k, len(arr)):\n",
    "        window_sum += arr[i] - arr[i-k]\n",
    "        max_sum = max(max_sum, window_sum)\n",
    "    return max_sum\n",
    "\n",
    "print(max_sum_subarray([1, 2, 3, 4, 5], 2))"
   ]
  },
  {
   "cell_type": "markdown",
   "id": "421a413a",
   "metadata": {},
   "source": [
    "## 📚 Dynamic Programming"
   ]
  },
  {
   "cell_type": "code",
   "execution_count": null,
   "id": "361fd92a",
   "metadata": {},
   "outputs": [],
   "source": [
    "# Fibonacci with memoization\n",
    "from functools import lru_cache\n",
    "\n",
    "@lru_cache(None)\n",
    "def fib(n):\n",
    "    if n < 2: return n\n",
    "    return fib(n-1) + fib(n-2)\n",
    "\n",
    "print(fib(10))"
   ]
  },
  {
   "cell_type": "markdown",
   "id": "67210eb8",
   "metadata": {},
   "source": [
    "## 🌲 Tree Traversal (DFS and BFS)"
   ]
  },
  {
   "cell_type": "code",
   "execution_count": null,
   "id": "696000fc",
   "metadata": {},
   "outputs": [],
   "source": [
    "# Tree traversal example\n",
    "class Node:\n",
    "    def __init__(self, val, left=None, right=None):\n",
    "        self.val = val\n",
    "        self.left = left\n",
    "        self.right = right\n",
    "\n",
    "# DFS\n",
    "def dfs(root):\n",
    "    if root:\n",
    "        print(root.val)\n",
    "        dfs(root.left)\n",
    "        dfs(root.right)\n",
    "\n",
    "# BFS\n",
    "from collections import deque\n",
    "def bfs(root):\n",
    "    q = deque([root])\n",
    "    while q:\n",
    "        node = q.popleft()\n",
    "        print(node.val)\n",
    "        if node.left: q.append(node.left)\n",
    "        if node.right: q.append(node.right)\n",
    "\n",
    "# Test tree\n",
    "root = Node(1, Node(2), Node(3))\n",
    "print(\"DFS:\")\n",
    "dfs(root)\n",
    "print(\"BFS:\")\n",
    "bfs(root)"
   ]
  },
  {
   "cell_type": "markdown",
   "id": "b8f14308",
   "metadata": {},
   "source": [
    "## 🌉 Graph Traversal"
   ]
  },
  {
   "cell_type": "code",
   "execution_count": null,
   "id": "4bb11ca7",
   "metadata": {},
   "outputs": [],
   "source": [
    "# DFS and BFS in graphs\n",
    "def dfs(graph, start, visited=set()):\n",
    "    if start not in visited:\n",
    "        visited.add(start)\n",
    "        print(start)\n",
    "        for neighbor in graph[start]:\n",
    "            dfs(graph, neighbor, visited)\n",
    "\n",
    "from collections import deque\n",
    "def bfs(graph, start):\n",
    "    visited = set()\n",
    "    q = deque([start])\n",
    "    while q:\n",
    "        node = q.popleft()\n",
    "        if node not in visited:\n",
    "            visited.add(node)\n",
    "            print(node)\n",
    "            q.extend(graph[node])\n",
    "\n",
    "graph = {\n",
    "    'A': ['B', 'C'],\n",
    "    'B': ['D'],\n",
    "    'C': ['E'],\n",
    "    'D': [],\n",
    "    'E': ['F'],\n",
    "    'F': []\n",
    "}\n",
    "print(\"DFS:\")\n",
    "dfs(graph, 'A')\n",
    "print(\"BFS:\")\n",
    "bfs(graph, 'A')"
   ]
  },
  {
   "cell_type": "markdown",
   "id": "f0b9ed20",
   "metadata": {},
   "source": [
    "## 🧭 Dijkstra's Algorithm"
   ]
  },
  {
   "cell_type": "code",
   "execution_count": null,
   "id": "14388620",
   "metadata": {},
   "outputs": [],
   "source": [
    "import heapq\n",
    "\n",
    "def dijkstra(graph, start):\n",
    "    heap = [(0, start)]\n",
    "    dist = {node: float('inf') for node in graph}\n",
    "    dist[start] = 0\n",
    "    while heap:\n",
    "        cost, node = heapq.heappop(heap)\n",
    "        for neighbor, weight in graph[node]:\n",
    "            if cost + weight < dist[neighbor]:\n",
    "                dist[neighbor] = cost + weight\n",
    "                heapq.heappush(heap, (dist[neighbor], neighbor))\n",
    "    return dist\n",
    "\n",
    "graph = {\n",
    "    'A': [('B', 1), ('C', 4)],\n",
    "    'B': [('C', 2), ('D', 5)],\n",
    "    'C': [('D', 1)],\n",
    "    'D': []\n",
    "}\n",
    "\n",
    "print(dijkstra(graph, 'A'))"
   ]
  }
 ],
 "metadata": {},
 "nbformat": 4,
 "nbformat_minor": 5
}