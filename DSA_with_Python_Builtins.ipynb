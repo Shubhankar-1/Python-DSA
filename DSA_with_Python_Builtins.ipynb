{
 "cells": [
  {
   "cell_type": "markdown",
   "id": "43e1b2fc",
   "metadata": {},
   "source": [
    "# 🧠 DSA in Python with Built-ins and Standard Library\n",
    "\n",
    "Interactive practice notebook covering common interview problems with Python built-ins.\n"
   ]
  },
  {
   "cell_type": "markdown",
   "id": "70ef6b65",
   "metadata": {},
   "source": [
    "## ✅ Easy Problems (Built-in Functions)\n"
   ]
  },
  {
   "cell_type": "code",
   "execution_count": 21,
   "id": "d3e1833b",
   "metadata": {},
   "outputs": [
    {
     "name": "stdout",
     "output_type": "stream",
     "text": [
      "Reversed: olleh\n"
     ]
    }
   ],
   "source": [
    "# Reverse a string\n",
    "s = \"hello\"\n",
    "reversed_s = s[::-1]\n",
    "print(\"Reversed:\", reversed_s)"
   ]
  },
  {
   "cell_type": "code",
   "execution_count": 22,
   "id": "1638db74",
   "metadata": {},
   "outputs": [
    {
     "name": "stdout",
     "output_type": "stream",
     "text": [
      "True\n"
     ]
    }
   ],
   "source": [
    "# Check palindrome\n",
    "def is_palindrome(s):\n",
    "    return s == s[::-1]\n",
    "\n",
    "\n",
    "print(is_palindrome(\"racecar\"))"
   ]
  },
  {
   "cell_type": "code",
   "execution_count": 23,
   "id": "1d19266a",
   "metadata": {},
   "outputs": [
    {
     "name": "stdout",
     "output_type": "stream",
     "text": [
      "Counter({3: 3, 2: 2, 1: 1})\n"
     ]
    }
   ],
   "source": [
    "# Frequency count\n",
    "from collections import Counter\n",
    "\n",
    "nums = [1, 2, 2, 3, 3, 3]\n",
    "print(Counter(nums))"
   ]
  },
  {
   "cell_type": "markdown",
   "id": "81ce198c",
   "metadata": {},
   "source": [
    "## 🔁 Medium Problems (Two Pointers, Sliding Window, Prefix Sum)\n"
   ]
  },
  {
   "cell_type": "code",
   "execution_count": 24,
   "id": "5d9f04ea",
   "metadata": {},
   "outputs": [
    {
     "name": "stdout",
     "output_type": "stream",
     "text": [
      "True\n"
     ]
    }
   ],
   "source": [
    "# Two sum using two pointers\n",
    "def has_pair_with_sum(arr, target):\n",
    "    arr.sort()\n",
    "    left, right = 0, len(arr) - 1\n",
    "    while left < right:\n",
    "        total = arr[left] + arr[right]\n",
    "        if total == target:\n",
    "            return True\n",
    "        elif total < target:\n",
    "            left += 1\n",
    "        else:\n",
    "            right -= 1\n",
    "    return False\n",
    "\n",
    "\n",
    "print(has_pair_with_sum([1, 2, 4, 4], 8))"
   ]
  },
  {
   "cell_type": "code",
   "execution_count": 25,
   "id": "788c1bae",
   "metadata": {},
   "outputs": [
    {
     "name": "stdout",
     "output_type": "stream",
     "text": [
      "9\n"
     ]
    }
   ],
   "source": [
    "# Max sum subarray of size k\n",
    "def max_sum_subarray(arr, k):\n",
    "    window_sum = sum(arr[:k])\n",
    "    max_sum = window_sum\n",
    "    for i in range(k, len(arr)):\n",
    "        window_sum += arr[i] - arr[i - k]\n",
    "        max_sum = max(max_sum, window_sum)\n",
    "    return max_sum\n",
    "\n",
    "\n",
    "print(max_sum_subarray([1, 2, 3, 4, 5], 2))"
   ]
  },
  {
   "cell_type": "markdown",
   "id": "421a413a",
   "metadata": {},
   "source": [
    "## 📚 Dynamic Programming\n"
   ]
  },
  {
   "cell_type": "code",
   "execution_count": 26,
   "id": "361fd92a",
   "metadata": {},
   "outputs": [
    {
     "name": "stdout",
     "output_type": "stream",
     "text": [
      "55\n"
     ]
    }
   ],
   "source": [
    "# Fibonacci with memoization\n",
    "from functools import lru_cache\n",
    "\n",
    "\n",
    "@lru_cache(None)\n",
    "def fib(n):\n",
    "    if n < 2:\n",
    "        return n\n",
    "    return fib(n - 1) + fib(n - 2)\n",
    "\n",
    "\n",
    "print(fib(10))"
   ]
  },
  {
   "cell_type": "markdown",
   "id": "67210eb8",
   "metadata": {},
   "source": [
    "## 🌲 Tree Traversal (DFS and BFS)\n"
   ]
  },
  {
   "cell_type": "code",
   "execution_count": 27,
   "id": "696000fc",
   "metadata": {},
   "outputs": [
    {
     "name": "stdout",
     "output_type": "stream",
     "text": [
      "DFS:\n",
      "1\n",
      "2\n",
      "3\n",
      "BFS:\n",
      "1\n",
      "2\n",
      "3\n"
     ]
    }
   ],
   "source": [
    "# Tree traversal example\n",
    "class Node:\n",
    "    def __init__(self, val, left=None, right=None):\n",
    "        self.val = val\n",
    "        self.left = left\n",
    "        self.right = right\n",
    "\n",
    "\n",
    "# DFS\n",
    "def dfs(root):\n",
    "    if root:\n",
    "        print(root.val)\n",
    "        dfs(root.left)\n",
    "        dfs(root.right)\n",
    "\n",
    "\n",
    "# BFS\n",
    "from collections import deque\n",
    "\n",
    "\n",
    "def bfs(root):\n",
    "    q = deque([root])\n",
    "    while q:\n",
    "        node = q.popleft()\n",
    "        print(node.val)\n",
    "        if node.left:\n",
    "            q.append(node.left)\n",
    "        if node.right:\n",
    "            q.append(node.right)\n",
    "\n",
    "\n",
    "# Test tree\n",
    "root = Node(1, Node(2), Node(3))\n",
    "print(\"DFS:\")\n",
    "dfs(root)\n",
    "print(\"BFS:\")\n",
    "bfs(root)"
   ]
  },
  {
   "cell_type": "markdown",
   "id": "b8f14308",
   "metadata": {},
   "source": [
    "## 🌉 Graph Traversal\n"
   ]
  },
  {
   "cell_type": "code",
   "execution_count": 28,
   "id": "4bb11ca7",
   "metadata": {},
   "outputs": [
    {
     "name": "stdout",
     "output_type": "stream",
     "text": [
      "DFS:\n",
      "A\n",
      "B\n",
      "D\n",
      "C\n",
      "E\n",
      "F\n",
      "BFS:\n",
      "A\n",
      "B\n",
      "C\n",
      "D\n",
      "E\n",
      "F\n"
     ]
    }
   ],
   "source": [
    "# DFS and BFS in graphs\n",
    "def dfs(graph, start, visited=set()):\n",
    "    if start not in visited:\n",
    "        visited.add(start)\n",
    "        print(start)\n",
    "        for neighbor in graph[start]:\n",
    "            dfs(graph, neighbor, visited)\n",
    "\n",
    "\n",
    "from collections import deque\n",
    "\n",
    "\n",
    "def bfs(graph, start):\n",
    "    visited = set()\n",
    "    q = deque([start])\n",
    "    while q:\n",
    "        node = q.popleft()\n",
    "        if node not in visited:\n",
    "            visited.add(node)\n",
    "            print(node)\n",
    "            q.extend(graph[node])\n",
    "\n",
    "\n",
    "graph = {\"A\": [\"B\", \"C\"], \"B\": [\"D\"], \"C\": [\"E\"], \"D\": [], \"E\": [\"F\"], \"F\": []}\n",
    "print(\"DFS:\")\n",
    "dfs(graph, \"A\")\n",
    "print(\"BFS:\")\n",
    "bfs(graph, \"A\")"
   ]
  },
  {
   "cell_type": "markdown",
   "id": "f0b9ed20",
   "metadata": {},
   "source": [
    "## 🧭 Dijkstra's Algorithm\n"
   ]
  },
  {
   "cell_type": "code",
   "execution_count": null,
   "id": "14388620",
   "metadata": {},
   "outputs": [
    {
     "name": "stdout",
     "output_type": "stream",
     "text": [
      "{'A': 0, 'B': 1, 'C': 3, 'D': 4}\n"
     ]
    }
   ],
   "source": [
    "import heapq\n",
    "\n",
    "\n",
    "\n",
    "def dijkstra(graph, start):\n",
    "\n",
    "    heap = [(0, start)]\n",
    "\n",
    "\n",
    "    dist = {node: float(\"inf\") for node in graph}\n",
    "    dist[start] = 0\n",
    "    while heap:\n",
    "        cost, node = heapq.heappop(heap)\n",
    "        for neighbor, weight in graph[node]:\n",
    "            if cost + weight < dist[neighbor]:\n",
    "                dist[neighbor] = cost + weight\n",
    "                heapq.heappush(heap, (int(dist[neighbor]), neighbor))\n",
    "    return dist\n",
    "\n",
    "\n",
    "graph = {\"A\": [(\"B\", 1), (\"C\", 4)], \"B\": [(\"C\", 2), (\"D\", 5)], \"C\": [(\"D\", 1)], \"D\": []}\n",
    "\n",
    "\n",
    "\n",
    "print(dijkstra(graph, \"A\"))"
   ]
  }
 ],
 "metadata": {
  "kernelspec": {
   "display_name": "Python 3",
   "language": "python",
   "name": "python3"
  },
  "language_info": {
   "codemirror_mode": {
    "name": "ipython",
    "version": 3
   },
   "file_extension": ".py",
   "mimetype": "text/x-python",
   "name": "python",
   "nbconvert_exporter": "python",
   "pygments_lexer": "ipython3",
   "version": "3.12.0"
  }
 },
 "nbformat": 4,
 "nbformat_minor": 5
}
