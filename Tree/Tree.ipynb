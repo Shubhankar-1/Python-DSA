{
 "cells": [
  {
   "cell_type": "code",
   "execution_count": 30,
   "metadata": {},
   "outputs": [
    {
     "name": "stdout",
     "output_type": "stream",
     "text": [
      "[1, 2, 3, 5, 7, 8]\n",
      "[1, 3, 5, 7, 8]\n"
     ]
    }
   ],
   "source": [
    "class TreeNode(object):\n",
    "    def __init__(self, val=0, left=None, right=None):\n",
    "        self.val = val\n",
    "        self.left = left\n",
    "        self.right = right\n",
    "\n",
    "        \n",
    "\n",
    "    def addChild(self, child):\n",
    "        if child == self.val:\n",
    "            return\n",
    "        \n",
    "        if child < self.val:\n",
    "            if self.left:\n",
    "                self.left.addChild(child)\n",
    "            else:\n",
    "                self.left = TreeNode(child)\n",
    "        else:\n",
    "            if self.right:\n",
    "                self.right.addChild(child)\n",
    "            else:\n",
    "                self.right = TreeNode(child)\n",
    "\n",
    "    def inorder(self):\n",
    "        elements = []\n",
    "        # visit left tree\n",
    "        if self.left:\n",
    "            elements += self.left.inorder()\n",
    "\n",
    "        # visit base node\n",
    "        elements.append(self.val)\n",
    "\n",
    "        # visit right tree\n",
    "        if self.right:\n",
    "            elements +=self.right.inorder()\n",
    "\n",
    "        return elements\n",
    "    \n",
    "    def deleteNode(self, root, key):\n",
    "        if not root:\n",
    "            return None\n",
    "\n",
    "        if root.val == key:\n",
    "            if not root.right:\n",
    "                return root.left\n",
    "\n",
    "            if not root.left:\n",
    "                return root.right\n",
    "\n",
    "            if root.left and root.right:\n",
    "                temp = root.right\n",
    "\n",
    "                while temp.left:\n",
    "                    temp = temp.left\n",
    "\n",
    "                root.val = temp.val\n",
    "                root.right = self.deleteNode(root.right, root.val)\n",
    "\n",
    "        elif root.val > key:\n",
    "            root.left = self.deleteNode(root.left, key)\n",
    "        else:\n",
    "            root.right = self.deleteNode(root.right, key)\n",
    "\n",
    "        return root\n",
    "\n",
    "def buildTree(elements):\n",
    "    root = TreeNode(elements[0])\n",
    "\n",
    "    for i in range(1,len(elements)-1):\n",
    "        root.addChild(elements[i])\n",
    "\n",
    "    return root\n",
    "\n",
    "\n",
    "\n",
    "if __name__ == \"__main__\":\n",
    "    numbers = [5, 8, 7, 2, 1, 3, 6]\n",
    "\n",
    "    tree = buildTree(numbers)\n",
    "\n",
    "    print(tree.inorder())\n",
    "    tree.deleteNode(tree,2)\n",
    "    print(tree.inorder())\n"
   ]
  },
  {
   "cell_type": "code",
   "execution_count": 28,
   "metadata": {},
   "outputs": [
    {
     "data": {
      "text/plain": [
       "{'p': 2, 'e': 8, 'z': 6}"
      ]
     },
     "execution_count": 28,
     "metadata": {},
     "output_type": "execute_result"
    }
   ],
   "source": [
    "x = {'p':2,'e':8,'z':6}\n",
    "x"
   ]
  },
  {
   "cell_type": "code",
   "execution_count": 29,
   "metadata": {},
   "outputs": [
    {
     "ename": "AttributeError",
     "evalue": "'dict' object has no attribute 'sort'",
     "output_type": "error",
     "traceback": [
      "\u001b[1;31m---------------------------------------------------------------------------\u001b[0m",
      "\u001b[1;31mAttributeError\u001b[0m                            Traceback (most recent call last)",
      "Cell \u001b[1;32mIn [29], line 1\u001b[0m\n\u001b[1;32m----> 1\u001b[0m x\u001b[39m.\u001b[39;49msort()\n",
      "\u001b[1;31mAttributeError\u001b[0m: 'dict' object has no attribute 'sort'"
     ]
    }
   ],
   "source": [
    "x."
   ]
  },
  {
   "cell_type": "code",
   "execution_count": 32,
   "metadata": {},
   "outputs": [
    {
     "name": "stdout",
     "output_type": "stream",
     "text": [
      "{'ravi': 10, 'rajnish': 9, 'sanjeev': 15, 'yash': 2, 'suraj': 32}\n",
      "{'yash': 2, 'rajnish': 9, 'ravi': 10, 'sanjeev': 15, 'suraj': 32}\n"
     ]
    }
   ],
   "source": [
    "from collections import OrderedDict\n",
    "from utils imp\n",
    "import numpy as np\n",
    "\n",
    "dict = {'ravi': 10, 'rajnish': 9,\n",
    "        'sanjeev': 15, 'yash': 2, 'suraj': 32}\n",
    "print(dict)\n",
    "\n",
    "keys = list(dict.keys())\n",
    "values = list(dict.values())\n",
    "sorted_value_index = np.argsort(values)\n",
    "sorted_dict = {keys[i]: values[i] for i in sorted_value_index}\n",
    "\n",
    "print(sorted_dict)"
   ]
  },
  {
   "cell_type": "code",
   "execution_count": 34,
   "metadata": {},
   "outputs": [
    {
     "name": "stdout",
     "output_type": "stream",
     "text": [
      "Counter({'e': 2, 't': 1, 'r': 1})\n",
      "ee\n",
      "eet\n",
      "eetr\n"
     ]
    }
   ],
   "source": [
    "s = 'tree'\n",
    "import collections\n",
    "string_dic = collections.Counter(s)\n",
    "print(string_dic)\n",
    "result = ''\n",
    "for key, value in sorted(string_dic.items(), key=lambda x: x[1], reverse=True):\n",
    "    result += key * value\n",
    "    print(result)\n"
   ]
  },
  {
   "cell_type": "code",
   "execution_count": null,
   "metadata": {},
   "outputs": [],
   "source": []
  }
 ],
 "metadata": {
  "kernelspec": {
   "display_name": "Python 3.10.5 64-bit",
   "language": "python",
   "name": "python3"
  },
  "language_info": {
   "codemirror_mode": {
    "name": "ipython",
    "version": 3
   },
   "file_extension": ".py",
   "mimetype": "text/x-python",
   "name": "python",
   "nbconvert_exporter": "python",
   "pygments_lexer": "ipython3",
   "version": "3.10.5 (tags/v3.10.5:f377153, Jun  6 2022, 16:14:13) [MSC v.1929 64 bit (AMD64)]"
  },
  "orig_nbformat": 4,
  "vscode": {
   "interpreter": {
    "hash": "26de051ba29f2982a8de78e945f0abaf191376122a1563185a90213a26c5da77"
   }
  }
 },
 "nbformat": 4,
 "nbformat_minor": 2
}
