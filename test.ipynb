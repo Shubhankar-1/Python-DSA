{
 "cells": [
  {
   "cell_type": "code",
   "execution_count": 1,
   "metadata": {},
   "outputs": [
    {
     "ename": "StaleElementReferenceException",
     "evalue": "Message: stale element reference: stale element not found\n  (Session info: MicrosoftEdge=122.0.2365.52); For documentation on this error, please visit: https://www.selenium.dev/documentation/webdriver/troubleshooting/errors#stale-element-reference-exception\nStacktrace:\n\tGetHandleVerifier [0x00007FF6B25A5D42+55138]\n\tMicrosoft::Applications::Events::ILogConfiguration::operator* [0x00007FF6B25321C2+219010]\n\t(No symbol) [0x00007FF6B2363407]\n\t(No symbol) [0x00007FF6B23725AA]\n\t(No symbol) [0x00007FF6B2372A9E]\n\t(No symbol) [0x00007FF6B23689C1]\n\t(No symbol) [0x00007FF6B23671D8]\n\t(No symbol) [0x00007FF6B2369D67]\n\t(No symbol) [0x00007FF6B2369E30]\n\t(No symbol) [0x00007FF6B23AA4AC]\n\t(No symbol) [0x00007FF6B23AA3A8]\n\t(No symbol) [0x00007FF6B23AA540]\n\t(No symbol) [0x00007FF6B23A1DE8]\n\t(No symbol) [0x00007FF6B23C8E0A]\n\t(No symbol) [0x00007FF6B239F017]\n\t(No symbol) [0x00007FF6B239EEDD]\n\t(No symbol) [0x00007FF6B23C90F0]\n\t(No symbol) [0x00007FF6B239F017]\n\t(No symbol) [0x00007FF6B23E1F59]\n\t(No symbol) [0x00007FF6B23C8A73]\n\t(No symbol) [0x00007FF6B239E53E]\n\t(No symbol) [0x00007FF6B239D6FC]\n\t(No symbol) [0x00007FF6B239E0F1]\n\tMicrosoft::Applications::Events::EventProperty::to_string [0x00007FF6B275ED2C+1067068]\n\t(No symbol) [0x00007FF6B24133C6]\n\t(No symbol) [0x00007FF6B24ACFAC]\n\t(No symbol) [0x00007FF6B24A4978]\n\tMicrosoft::Applications::Events::EventProperty::to_string [0x00007FF6B275DC75+1062789]\n\tMicrosoft::Applications::Events::ILogConfiguration::operator* [0x00007FF6B253BBB1+258417]\n\tMicrosoft::Applications::Events::ILogConfiguration::operator* [0x00007FF6B2536AB4+237684]\n\tMicrosoft::Applications::Events::ILogConfiguration::operator* [0x00007FF6B2536BEF+237999]\n\tMicrosoft::Applications::Events::ILogConfiguration::operator* [0x00007FF6B252D6A1+199777]\n\tBaseThreadInitThunk [0x00007FF9A9E3257D+29]\n\tRtlUserThreadStart [0x00007FF9AB0EAA58+40]\n",
     "output_type": "error",
     "traceback": [
      "\u001b[1;31m---------------------------------------------------------------------------\u001b[0m",
      "\u001b[1;31mStaleElementReferenceException\u001b[0m            Traceback (most recent call last)",
      "Cell \u001b[1;32mIn[1], line 31\u001b[0m\n\u001b[0;32m     28\u001b[0m random_word \u001b[38;5;241m=\u001b[39m generate_random_word(\u001b[38;5;241m8\u001b[39m)\n\u001b[0;32m     30\u001b[0m \u001b[38;5;66;03m# Type the random word into the input field\u001b[39;00m\n\u001b[1;32m---> 31\u001b[0m \u001b[43minput_field\u001b[49m\u001b[38;5;241;43m.\u001b[39;49m\u001b[43msend_keys\u001b[49m\u001b[43m(\u001b[49m\u001b[43mrandom_word\u001b[49m\u001b[43m)\u001b[49m\n\u001b[0;32m     33\u001b[0m \u001b[38;5;66;03m# Press Enter\u001b[39;00m\n\u001b[0;32m     34\u001b[0m input_field\u001b[38;5;241m.\u001b[39msend_keys(Keys\u001b[38;5;241m.\u001b[39mRETURN)\n",
      "File \u001b[1;32m~\\AppData\\Roaming\\Python\\Python312\\site-packages\\selenium\\webdriver\\remote\\webelement.py:230\u001b[0m, in \u001b[0;36mWebElement.send_keys\u001b[1;34m(self, *value)\u001b[0m\n\u001b[0;32m    227\u001b[0m             remote_files\u001b[38;5;241m.\u001b[39mappend(\u001b[38;5;28mself\u001b[39m\u001b[38;5;241m.\u001b[39m_upload(file))\n\u001b[0;32m    228\u001b[0m         value \u001b[38;5;241m=\u001b[39m \u001b[38;5;124m\"\u001b[39m\u001b[38;5;130;01m\\n\u001b[39;00m\u001b[38;5;124m\"\u001b[39m\u001b[38;5;241m.\u001b[39mjoin(remote_files)\n\u001b[1;32m--> 230\u001b[0m \u001b[38;5;28;43mself\u001b[39;49m\u001b[38;5;241;43m.\u001b[39;49m\u001b[43m_execute\u001b[49m\u001b[43m(\u001b[49m\n\u001b[0;32m    231\u001b[0m \u001b[43m    \u001b[49m\u001b[43mCommand\u001b[49m\u001b[38;5;241;43m.\u001b[39;49m\u001b[43mSEND_KEYS_TO_ELEMENT\u001b[49m\u001b[43m,\u001b[49m\u001b[43m \u001b[49m\u001b[43m{\u001b[49m\u001b[38;5;124;43m\"\u001b[39;49m\u001b[38;5;124;43mtext\u001b[39;49m\u001b[38;5;124;43m\"\u001b[39;49m\u001b[43m:\u001b[49m\u001b[43m \u001b[49m\u001b[38;5;124;43m\"\u001b[39;49m\u001b[38;5;124;43m\"\u001b[39;49m\u001b[38;5;241;43m.\u001b[39;49m\u001b[43mjoin\u001b[49m\u001b[43m(\u001b[49m\u001b[43mkeys_to_typing\u001b[49m\u001b[43m(\u001b[49m\u001b[43mvalue\u001b[49m\u001b[43m)\u001b[49m\u001b[43m)\u001b[49m\u001b[43m,\u001b[49m\u001b[43m \u001b[49m\u001b[38;5;124;43m\"\u001b[39;49m\u001b[38;5;124;43mvalue\u001b[39;49m\u001b[38;5;124;43m\"\u001b[39;49m\u001b[43m:\u001b[49m\u001b[43m \u001b[49m\u001b[43mkeys_to_typing\u001b[49m\u001b[43m(\u001b[49m\u001b[43mvalue\u001b[49m\u001b[43m)\u001b[49m\u001b[43m}\u001b[49m\n\u001b[0;32m    232\u001b[0m \u001b[43m\u001b[49m\u001b[43m)\u001b[49m\n",
      "File \u001b[1;32m~\\AppData\\Roaming\\Python\\Python312\\site-packages\\selenium\\webdriver\\remote\\webelement.py:394\u001b[0m, in \u001b[0;36mWebElement._execute\u001b[1;34m(self, command, params)\u001b[0m\n\u001b[0;32m    392\u001b[0m     params \u001b[38;5;241m=\u001b[39m {}\n\u001b[0;32m    393\u001b[0m params[\u001b[38;5;124m\"\u001b[39m\u001b[38;5;124mid\u001b[39m\u001b[38;5;124m\"\u001b[39m] \u001b[38;5;241m=\u001b[39m \u001b[38;5;28mself\u001b[39m\u001b[38;5;241m.\u001b[39m_id\n\u001b[1;32m--> 394\u001b[0m \u001b[38;5;28;01mreturn\u001b[39;00m \u001b[38;5;28;43mself\u001b[39;49m\u001b[38;5;241;43m.\u001b[39;49m\u001b[43m_parent\u001b[49m\u001b[38;5;241;43m.\u001b[39;49m\u001b[43mexecute\u001b[49m\u001b[43m(\u001b[49m\u001b[43mcommand\u001b[49m\u001b[43m,\u001b[49m\u001b[43m \u001b[49m\u001b[43mparams\u001b[49m\u001b[43m)\u001b[49m\n",
      "File \u001b[1;32m~\\AppData\\Roaming\\Python\\Python312\\site-packages\\selenium\\webdriver\\remote\\webdriver.py:347\u001b[0m, in \u001b[0;36mWebDriver.execute\u001b[1;34m(self, driver_command, params)\u001b[0m\n\u001b[0;32m    345\u001b[0m response \u001b[38;5;241m=\u001b[39m \u001b[38;5;28mself\u001b[39m\u001b[38;5;241m.\u001b[39mcommand_executor\u001b[38;5;241m.\u001b[39mexecute(driver_command, params)\n\u001b[0;32m    346\u001b[0m \u001b[38;5;28;01mif\u001b[39;00m response:\n\u001b[1;32m--> 347\u001b[0m     \u001b[38;5;28;43mself\u001b[39;49m\u001b[38;5;241;43m.\u001b[39;49m\u001b[43merror_handler\u001b[49m\u001b[38;5;241;43m.\u001b[39;49m\u001b[43mcheck_response\u001b[49m\u001b[43m(\u001b[49m\u001b[43mresponse\u001b[49m\u001b[43m)\u001b[49m\n\u001b[0;32m    348\u001b[0m     response[\u001b[38;5;124m\"\u001b[39m\u001b[38;5;124mvalue\u001b[39m\u001b[38;5;124m\"\u001b[39m] \u001b[38;5;241m=\u001b[39m \u001b[38;5;28mself\u001b[39m\u001b[38;5;241m.\u001b[39m_unwrap_value(response\u001b[38;5;241m.\u001b[39mget(\u001b[38;5;124m\"\u001b[39m\u001b[38;5;124mvalue\u001b[39m\u001b[38;5;124m\"\u001b[39m, \u001b[38;5;28;01mNone\u001b[39;00m))\n\u001b[0;32m    349\u001b[0m     \u001b[38;5;28;01mreturn\u001b[39;00m response\n",
      "File \u001b[1;32m~\\AppData\\Roaming\\Python\\Python312\\site-packages\\selenium\\webdriver\\remote\\errorhandler.py:229\u001b[0m, in \u001b[0;36mErrorHandler.check_response\u001b[1;34m(self, response)\u001b[0m\n\u001b[0;32m    227\u001b[0m         alert_text \u001b[38;5;241m=\u001b[39m value[\u001b[38;5;124m\"\u001b[39m\u001b[38;5;124malert\u001b[39m\u001b[38;5;124m\"\u001b[39m]\u001b[38;5;241m.\u001b[39mget(\u001b[38;5;124m\"\u001b[39m\u001b[38;5;124mtext\u001b[39m\u001b[38;5;124m\"\u001b[39m)\n\u001b[0;32m    228\u001b[0m     \u001b[38;5;28;01mraise\u001b[39;00m exception_class(message, screen, stacktrace, alert_text)  \u001b[38;5;66;03m# type: ignore[call-arg]  # mypy is not smart enough here\u001b[39;00m\n\u001b[1;32m--> 229\u001b[0m \u001b[38;5;28;01mraise\u001b[39;00m exception_class(message, screen, stacktrace)\n",
      "\u001b[1;31mStaleElementReferenceException\u001b[0m: Message: stale element reference: stale element not found\n  (Session info: MicrosoftEdge=122.0.2365.52); For documentation on this error, please visit: https://www.selenium.dev/documentation/webdriver/troubleshooting/errors#stale-element-reference-exception\nStacktrace:\n\tGetHandleVerifier [0x00007FF6B25A5D42+55138]\n\tMicrosoft::Applications::Events::ILogConfiguration::operator* [0x00007FF6B25321C2+219010]\n\t(No symbol) [0x00007FF6B2363407]\n\t(No symbol) [0x00007FF6B23725AA]\n\t(No symbol) [0x00007FF6B2372A9E]\n\t(No symbol) [0x00007FF6B23689C1]\n\t(No symbol) [0x00007FF6B23671D8]\n\t(No symbol) [0x00007FF6B2369D67]\n\t(No symbol) [0x00007FF6B2369E30]\n\t(No symbol) [0x00007FF6B23AA4AC]\n\t(No symbol) [0x00007FF6B23AA3A8]\n\t(No symbol) [0x00007FF6B23AA540]\n\t(No symbol) [0x00007FF6B23A1DE8]\n\t(No symbol) [0x00007FF6B23C8E0A]\n\t(No symbol) [0x00007FF6B239F017]\n\t(No symbol) [0x00007FF6B239EEDD]\n\t(No symbol) [0x00007FF6B23C90F0]\n\t(No symbol) [0x00007FF6B239F017]\n\t(No symbol) [0x00007FF6B23E1F59]\n\t(No symbol) [0x00007FF6B23C8A73]\n\t(No symbol) [0x00007FF6B239E53E]\n\t(No symbol) [0x00007FF6B239D6FC]\n\t(No symbol) [0x00007FF6B239E0F1]\n\tMicrosoft::Applications::Events::EventProperty::to_string [0x00007FF6B275ED2C+1067068]\n\t(No symbol) [0x00007FF6B24133C6]\n\t(No symbol) [0x00007FF6B24ACFAC]\n\t(No symbol) [0x00007FF6B24A4978]\n\tMicrosoft::Applications::Events::EventProperty::to_string [0x00007FF6B275DC75+1062789]\n\tMicrosoft::Applications::Events::ILogConfiguration::operator* [0x00007FF6B253BBB1+258417]\n\tMicrosoft::Applications::Events::ILogConfiguration::operator* [0x00007FF6B2536AB4+237684]\n\tMicrosoft::Applications::Events::ILogConfiguration::operator* [0x00007FF6B2536BEF+237999]\n\tMicrosoft::Applications::Events::ILogConfiguration::operator* [0x00007FF6B252D6A1+199777]\n\tBaseThreadInitThunk [0x00007FF9A9E3257D+29]\n\tRtlUserThreadStart [0x00007FF9AB0EAA58+40]\n"
     ]
    }
   ],
   "source": [
    "from selenium import webdriver\n",
    "from selenium.webdriver.common.keys import Keys\n",
    "import random\n",
    "import string\n",
    "import time\n",
    "\n",
    "\n",
    "def generate_random_word(length):\n",
    "    letters = string.ascii_lowercase\n",
    "    return \"\".join(random.choice(letters) for _ in range(length))\n",
    "\n",
    "\n",
    "# Set up the web driver (make sure you have the appropriate web driver installed)\n",
    "# Example: ChromeDriver - https://sites.google.com/chromium.org/driver/\n",
    "driver = webdriver.Edge()\n",
    "\n",
    "# Open the browser and navigate to a website\n",
    "driver.get(\"https://www.bing.com/\")\n",
    "\n",
    "# Find the input field (you may need to inspect the HTML to get the correct locator)\n",
    "input_field = driver.find_element(\"name\", \"q\")\n",
    "\n",
    "# Number of times to repeat the process\n",
    "num_iterations = 50\n",
    "\n",
    "for _ in range(num_iterations):\n",
    "    # Generate a random word\n",
    "    random_word = generate_random_word(8)\n",
    "\n",
    "    # Type the random word into the input field\n",
    "    input_field.send_keys(random_word)\n",
    "\n",
    "    # Press Enter\n",
    "    input_field.send_keys(Keys.RETURN)\n",
    "\n",
    "    # Wait for a short time to see the result (adjust as needed)\n",
    "    time.sleep(2)\n",
    "\n",
    "# Close the browser\n",
    "driver.quit()"
   ]
  },
  {
   "cell_type": "code",
   "execution_count": 4,
   "metadata": {},
   "outputs": [
    {
     "ename": "StaleElementReferenceException",
     "evalue": "Message: stale element reference: stale element not found\n  (Session info: MicrosoftEdge=122.0.2365.52); For documentation on this error, please visit: https://www.selenium.dev/documentation/webdriver/troubleshooting/errors#stale-element-reference-exception\nStacktrace:\n\tGetHandleVerifier [0x00007FF6B25A5D42+55138]\n\tMicrosoft::Applications::Events::ILogConfiguration::operator* [0x00007FF6B25321C2+219010]\n\t(No symbol) [0x00007FF6B2363407]\n\t(No symbol) [0x00007FF6B23725AA]\n\t(No symbol) [0x00007FF6B2372A9E]\n\t(No symbol) [0x00007FF6B23689C1]\n\t(No symbol) [0x00007FF6B23671D8]\n\t(No symbol) [0x00007FF6B2369D67]\n\t(No symbol) [0x00007FF6B2369E30]\n\t(No symbol) [0x00007FF6B23AB290]\n\t(No symbol) [0x00007FF6B239F4C6]\n\t(No symbol) [0x00007FF6B23C8E0A]\n\t(No symbol) [0x00007FF6B239F017]\n\t(No symbol) [0x00007FF6B239EEDD]\n\t(No symbol) [0x00007FF6B23C90F0]\n\t(No symbol) [0x00007FF6B239F017]\n\t(No symbol) [0x00007FF6B23E1F59]\n\t(No symbol) [0x00007FF6B23C8A73]\n\t(No symbol) [0x00007FF6B239E53E]\n\t(No symbol) [0x00007FF6B239D6FC]\n\t(No symbol) [0x00007FF6B239E0F1]\n\tMicrosoft::Applications::Events::EventProperty::to_string [0x00007FF6B275ED2C+1067068]\n\t(No symbol) [0x00007FF6B24133C6]\n\t(No symbol) [0x00007FF6B24ACFAC]\n\t(No symbol) [0x00007FF6B24A4978]\n\tMicrosoft::Applications::Events::EventProperty::to_string [0x00007FF6B275DC75+1062789]\n\tMicrosoft::Applications::Events::ILogConfiguration::operator* [0x00007FF6B253BBB1+258417]\n\tMicrosoft::Applications::Events::ILogConfiguration::operator* [0x00007FF6B2536AB4+237684]\n\tMicrosoft::Applications::Events::ILogConfiguration::operator* [0x00007FF6B2536BEF+237999]\n\tMicrosoft::Applications::Events::ILogConfiguration::operator* [0x00007FF6B252D6A1+199777]\n\tBaseThreadInitThunk [0x00007FF9A9E3257D+29]\n\tRtlUserThreadStart [0x00007FF9AB0EAA58+40]\n",
     "output_type": "error",
     "traceback": [
      "\u001b[1;31m---------------------------------------------------------------------------\u001b[0m",
      "\u001b[1;31mStaleElementReferenceException\u001b[0m            Traceback (most recent call last)",
      "Cell \u001b[1;32mIn[4], line 91\u001b[0m\n\u001b[0;32m     89\u001b[0m     \u001b[38;5;66;03m# Wait for a short time to see the search results (adjust as needed)\u001b[39;00m\n\u001b[0;32m     90\u001b[0m     time\u001b[38;5;241m.\u001b[39msleep(\u001b[38;5;241m5\u001b[39m)\n\u001b[1;32m---> 91\u001b[0m     \u001b[43msearch_box\u001b[49m\u001b[38;5;241;43m.\u001b[39;49m\u001b[43mclick\u001b[49m\u001b[43m(\u001b[49m\u001b[43m)\u001b[49m\n\u001b[0;32m     92\u001b[0m     search_box\u001b[38;5;241m.\u001b[39mclear()\n\u001b[0;32m     94\u001b[0m \u001b[38;5;66;03m# Close the browser\u001b[39;00m\n",
      "File \u001b[1;32m~\\AppData\\Roaming\\Python\\Python312\\site-packages\\selenium\\webdriver\\remote\\webelement.py:93\u001b[0m, in \u001b[0;36mWebElement.click\u001b[1;34m(self)\u001b[0m\n\u001b[0;32m     91\u001b[0m \u001b[38;5;28;01mdef\u001b[39;00m \u001b[38;5;21mclick\u001b[39m(\u001b[38;5;28mself\u001b[39m) \u001b[38;5;241m-\u001b[39m\u001b[38;5;241m>\u001b[39m \u001b[38;5;28;01mNone\u001b[39;00m:\n\u001b[0;32m     92\u001b[0m \u001b[38;5;250m    \u001b[39m\u001b[38;5;124;03m\"\"\"Clicks the element.\"\"\"\u001b[39;00m\n\u001b[1;32m---> 93\u001b[0m     \u001b[38;5;28;43mself\u001b[39;49m\u001b[38;5;241;43m.\u001b[39;49m\u001b[43m_execute\u001b[49m\u001b[43m(\u001b[49m\u001b[43mCommand\u001b[49m\u001b[38;5;241;43m.\u001b[39;49m\u001b[43mCLICK_ELEMENT\u001b[49m\u001b[43m)\u001b[49m\n",
      "File \u001b[1;32m~\\AppData\\Roaming\\Python\\Python312\\site-packages\\selenium\\webdriver\\remote\\webelement.py:394\u001b[0m, in \u001b[0;36mWebElement._execute\u001b[1;34m(self, command, params)\u001b[0m\n\u001b[0;32m    392\u001b[0m     params \u001b[38;5;241m=\u001b[39m {}\n\u001b[0;32m    393\u001b[0m params[\u001b[38;5;124m\"\u001b[39m\u001b[38;5;124mid\u001b[39m\u001b[38;5;124m\"\u001b[39m] \u001b[38;5;241m=\u001b[39m \u001b[38;5;28mself\u001b[39m\u001b[38;5;241m.\u001b[39m_id\n\u001b[1;32m--> 394\u001b[0m \u001b[38;5;28;01mreturn\u001b[39;00m \u001b[38;5;28;43mself\u001b[39;49m\u001b[38;5;241;43m.\u001b[39;49m\u001b[43m_parent\u001b[49m\u001b[38;5;241;43m.\u001b[39;49m\u001b[43mexecute\u001b[49m\u001b[43m(\u001b[49m\u001b[43mcommand\u001b[49m\u001b[43m,\u001b[49m\u001b[43m \u001b[49m\u001b[43mparams\u001b[49m\u001b[43m)\u001b[49m\n",
      "File \u001b[1;32m~\\AppData\\Roaming\\Python\\Python312\\site-packages\\selenium\\webdriver\\remote\\webdriver.py:347\u001b[0m, in \u001b[0;36mWebDriver.execute\u001b[1;34m(self, driver_command, params)\u001b[0m\n\u001b[0;32m    345\u001b[0m response \u001b[38;5;241m=\u001b[39m \u001b[38;5;28mself\u001b[39m\u001b[38;5;241m.\u001b[39mcommand_executor\u001b[38;5;241m.\u001b[39mexecute(driver_command, params)\n\u001b[0;32m    346\u001b[0m \u001b[38;5;28;01mif\u001b[39;00m response:\n\u001b[1;32m--> 347\u001b[0m     \u001b[38;5;28;43mself\u001b[39;49m\u001b[38;5;241;43m.\u001b[39;49m\u001b[43merror_handler\u001b[49m\u001b[38;5;241;43m.\u001b[39;49m\u001b[43mcheck_response\u001b[49m\u001b[43m(\u001b[49m\u001b[43mresponse\u001b[49m\u001b[43m)\u001b[49m\n\u001b[0;32m    348\u001b[0m     response[\u001b[38;5;124m\"\u001b[39m\u001b[38;5;124mvalue\u001b[39m\u001b[38;5;124m\"\u001b[39m] \u001b[38;5;241m=\u001b[39m \u001b[38;5;28mself\u001b[39m\u001b[38;5;241m.\u001b[39m_unwrap_value(response\u001b[38;5;241m.\u001b[39mget(\u001b[38;5;124m\"\u001b[39m\u001b[38;5;124mvalue\u001b[39m\u001b[38;5;124m\"\u001b[39m, \u001b[38;5;28;01mNone\u001b[39;00m))\n\u001b[0;32m    349\u001b[0m     \u001b[38;5;28;01mreturn\u001b[39;00m response\n",
      "File \u001b[1;32m~\\AppData\\Roaming\\Python\\Python312\\site-packages\\selenium\\webdriver\\remote\\errorhandler.py:229\u001b[0m, in \u001b[0;36mErrorHandler.check_response\u001b[1;34m(self, response)\u001b[0m\n\u001b[0;32m    227\u001b[0m         alert_text \u001b[38;5;241m=\u001b[39m value[\u001b[38;5;124m\"\u001b[39m\u001b[38;5;124malert\u001b[39m\u001b[38;5;124m\"\u001b[39m]\u001b[38;5;241m.\u001b[39mget(\u001b[38;5;124m\"\u001b[39m\u001b[38;5;124mtext\u001b[39m\u001b[38;5;124m\"\u001b[39m)\n\u001b[0;32m    228\u001b[0m     \u001b[38;5;28;01mraise\u001b[39;00m exception_class(message, screen, stacktrace, alert_text)  \u001b[38;5;66;03m# type: ignore[call-arg]  # mypy is not smart enough here\u001b[39;00m\n\u001b[1;32m--> 229\u001b[0m \u001b[38;5;28;01mraise\u001b[39;00m exception_class(message, screen, stacktrace)\n",
      "\u001b[1;31mStaleElementReferenceException\u001b[0m: Message: stale element reference: stale element not found\n  (Session info: MicrosoftEdge=122.0.2365.52); For documentation on this error, please visit: https://www.selenium.dev/documentation/webdriver/troubleshooting/errors#stale-element-reference-exception\nStacktrace:\n\tGetHandleVerifier [0x00007FF6B25A5D42+55138]\n\tMicrosoft::Applications::Events::ILogConfiguration::operator* [0x00007FF6B25321C2+219010]\n\t(No symbol) [0x00007FF6B2363407]\n\t(No symbol) [0x00007FF6B23725AA]\n\t(No symbol) [0x00007FF6B2372A9E]\n\t(No symbol) [0x00007FF6B23689C1]\n\t(No symbol) [0x00007FF6B23671D8]\n\t(No symbol) [0x00007FF6B2369D67]\n\t(No symbol) [0x00007FF6B2369E30]\n\t(No symbol) [0x00007FF6B23AB290]\n\t(No symbol) [0x00007FF6B239F4C6]\n\t(No symbol) [0x00007FF6B23C8E0A]\n\t(No symbol) [0x00007FF6B239F017]\n\t(No symbol) [0x00007FF6B239EEDD]\n\t(No symbol) [0x00007FF6B23C90F0]\n\t(No symbol) [0x00007FF6B239F017]\n\t(No symbol) [0x00007FF6B23E1F59]\n\t(No symbol) [0x00007FF6B23C8A73]\n\t(No symbol) [0x00007FF6B239E53E]\n\t(No symbol) [0x00007FF6B239D6FC]\n\t(No symbol) [0x00007FF6B239E0F1]\n\tMicrosoft::Applications::Events::EventProperty::to_string [0x00007FF6B275ED2C+1067068]\n\t(No symbol) [0x00007FF6B24133C6]\n\t(No symbol) [0x00007FF6B24ACFAC]\n\t(No symbol) [0x00007FF6B24A4978]\n\tMicrosoft::Applications::Events::EventProperty::to_string [0x00007FF6B275DC75+1062789]\n\tMicrosoft::Applications::Events::ILogConfiguration::operator* [0x00007FF6B253BBB1+258417]\n\tMicrosoft::Applications::Events::ILogConfiguration::operator* [0x00007FF6B2536AB4+237684]\n\tMicrosoft::Applications::Events::ILogConfiguration::operator* [0x00007FF6B2536BEF+237999]\n\tMicrosoft::Applications::Events::ILogConfiguration::operator* [0x00007FF6B252D6A1+199777]\n\tBaseThreadInitThunk [0x00007FF9A9E3257D+29]\n\tRtlUserThreadStart [0x00007FF9AB0EAA58+40]\n"
     ]
    }
   ],
   "source": [
    "from selenium import webdriver\n",
    "from selenium.webdriver.common.keys import Keys\n",
    "import random\n",
    "import string\n",
    "import time\n",
    "\n",
    "\n",
    "def generate_random_word(length):\n",
    "    letters = string.ascii_lowercase\n",
    "    return \"\".join(random.choice(letters) for _ in range(length))\n",
    "\n",
    "\n",
    "tech_topics = [\n",
    "    \"Artificial Intelligence\",\n",
    "    \"Machine Learning\",\n",
    "    \"Data Science\",\n",
    "    \"Blockchain\",\n",
    "    \"Cybersecurity\",\n",
    "    \"Internet of Things (IoT)\",\n",
    "    \"Cloud Computing\",\n",
    "    \"Big Data\",\n",
    "    \"Virtual Reality (VR)\",\n",
    "    \"Augmented Reality (AR)\",\n",
    "    \"Quantum Computing\",\n",
    "    \"Robotics\",\n",
    "    \"Automation\",\n",
    "    \"5G Technology\",\n",
    "    \"Software Development\",\n",
    "    \"Mobile App Development\",\n",
    "    \"Web Development\",\n",
    "    \"DevOps\",\n",
    "    \"Natural Language Processing (NLP)\",\n",
    "    \"Biotechnology\",\n",
    "    \"Bioinformatics\",\n",
    "    \"Cryptocurrency\",\n",
    "    \"Smart Cities\",\n",
    "    \"Autonomous Vehicles\",\n",
    "    \"Fintech\",\n",
    "    \"Health Tech\",\n",
    "    \"EdTech\",\n",
    "    \"AgTech\",\n",
    "    \"Clean Energy Technology\",\n",
    "    \"Space Technology\",\n",
    "    \"3D Printing\",\n",
    "    \"Drones\",\n",
    "    \"Human-Computer Interaction (HCI)\",\n",
    "    \"User Experience (UX) Design\",\n",
    "    \"Cyber-Physical Systems\",\n",
    "    \"Edge Computing\",\n",
    "    \"Quantified Self\",\n",
    "    \"APIs (Application Programming Interfaces)\",\n",
    "    \"Open Source Software\",\n",
    "    \"Microservices Architecture\",\n",
    "    \"Containerization (e.g., Docker)\",\n",
    "    \"Serverless Computing\",\n",
    "    \"Tech Ethics\",\n",
    "    \"Digital Transformation\",\n",
    "    \"Smart Home Technology\",\n",
    "    \"Wearable Technology\",\n",
    "    \"Tech Startups\",\n",
    "    \"Tech Conferences\",\n",
    "    \"Tech Podcasts\",\n",
    "    \"Programming Languages (Python, Java, JavaScript, etc.)\",\n",
    "    \"Tech Communities and Forums\",\n",
    "    \"Tech Trends\",\n",
    "    \"Tech Gadgets\",\n",
    "    \"Tech Innovation\",\n",
    "    \"Tech Careers and Skills\",\n",
    "]\n",
    "\n",
    "# Set up the web driver (make sure you have the appropriate web driver installed)\n",
    "# Example: ChromeDriver - https://sites.google.com/chromium.org/driver/\n",
    "driver = webdriver.Edge()\n",
    "\n",
    "# Number of times to repeat the process\n",
    "num_iterations = 10\n",
    "\n",
    "driver.get(\"https://www.bing.com/\")\n",
    "\n",
    "for i in range(len(tech_topics)):\n",
    "    # Generate a random word\n",
    "    random_word = tech_topics[i]\n",
    "\n",
    "    # Open Bing and perform a search\n",
    "    search_box = driver.find_element(\"name\", \"q\")\n",
    "    search_box.send_keys(random_word)\n",
    "    search_box.send_keys(Keys.RETURN)\n",
    "\n",
    "    # Wait for a short time to see the search results (adjust as needed)\n",
    "    time.sleep(5)\n",
    "    search_box.click()\n",
    "    search_box.clear()\n",
    "\n",
    "# Close the browser\n",
    "driver.quit()"
   ]
  },
  {
   "cell_type": "code",
   "execution_count": 5,
   "metadata": {},
   "outputs": [
    {
     "data": {
      "text/html": [
       "<div>\n",
       "<style scoped>\n",
       "    .dataframe tbody tr th:only-of-type {\n",
       "        vertical-align: middle;\n",
       "    }\n",
       "\n",
       "    .dataframe tbody tr th {\n",
       "        vertical-align: top;\n",
       "    }\n",
       "\n",
       "    .dataframe thead th {\n",
       "        text-align: right;\n",
       "    }\n",
       "</style>\n",
       "<table border=\"1\" class=\"dataframe\">\n",
       "  <thead>\n",
       "    <tr style=\"text-align: right;\">\n",
       "      <th></th>\n",
       "      <th>id</th>\n",
       "      <th>name</th>\n",
       "    </tr>\n",
       "  </thead>\n",
       "  <tbody>\n",
       "    <tr>\n",
       "      <th>0</th>\n",
       "      <td>1</td>\n",
       "      <td>NaN</td>\n",
       "    </tr>\n",
       "    <tr>\n",
       "      <th>1</th>\n",
       "      <td>aLice</td>\n",
       "      <td>Ergland</td>\n",
       "    </tr>\n",
       "  </tbody>\n",
       "</table>\n",
       "</div>"
      ],
      "text/plain": [
       "      id     name\n",
       "0      1      NaN\n",
       "1  aLice  Ergland"
      ]
     },
     "execution_count": 5,
     "metadata": {},
     "output_type": "execute_result"
    }
   ],
   "source": [
    "import pandas as pd\n",
    "\n",
    "lis = [[1,2],['aLice','ErgLAnd']]\n",
    "\n",
    "res = pd.DataFrame(lis,columns=['id','name'])\n",
    "\n",
    "res['name'] = res['name'].str.capitalize()\n",
    "res\n"
   ]
  },
  {
   "cell_type": "code",
   "execution_count": 63,
   "metadata": {},
   "outputs": [
    {
     "name": "stdout",
     "output_type": "stream",
     "text": [
      "     \n",
      "    *\n",
      "   ***\n",
      "  *****\n",
      " *******\n",
      "*********\n"
     ]
    }
   ],
   "source": [
    "x = 4\n",
    "y = 5\n",
    "\n",
    "for i in range(y+1):\n",
    "    spaces = ' ' * ((y-i))\n",
    "    print(spaces, end='')\n",
    "    for j in range(i*2-1):\n",
    "        print('*',end='')\n",
    "    print()\n",
    "\n",
    "\n",
    "# print('   *')\n",
    "# print('  ***')\n",
    "# print(' *****')\n",
    "# print('*******')\n",
    "\n",
    "\n"
   ]
  },
  {
   "cell_type": "code",
   "execution_count": 47,
   "metadata": {},
   "outputs": [
    {
     "name": "stdout",
     "output_type": "stream",
     "text": [
      "    *\n",
      "   ***\n",
      "  *****\n",
      " *******\n",
      "*********\n"
     ]
    }
   ],
   "source": [
    "for i in range(1, y + 1):\n",
    "    # Print spaces before the stars\n",
    "    for j in range(y - i):\n",
    "        print(\" \", end=\"\")\n",
    "    \n",
    "    # Print stars\n",
    "    for k in range(2 * i - 1):\n",
    "        print(\"*\", end=\"\")\n",
    "    \n",
    "    # Move to the next line after each row\n",
    "    print()"
   ]
  },
  {
   "cell_type": "code",
   "execution_count": 65,
   "metadata": {},
   "outputs": [
    {
     "data": {
      "text/plain": [
       "2001"
      ]
     },
     "execution_count": 65,
     "metadata": {},
     "output_type": "execute_result"
    }
   ],
   "source": [
    "\n",
    "# 0 1 2 3 4 5\n",
    "# 9 8 7 6 5 4\n",
    "\n",
    "2000 + 1"
   ]
  },
  {
   "cell_type": "code",
   "execution_count": 2,
   "metadata": {},
   "outputs": [
    {
     "data": {
      "text/plain": [
       "{'bsewda'}"
      ]
     },
     "execution_count": 2,
     "metadata": {},
     "output_type": "execute_result"
    }
   ],
   "source": [
    "a ={'abeae'}\n",
    "b = {'bsewda'}\n",
    "\n",
    "a = b\n",
    "b = {'oooooo'}\n",
    "a"
   ]
  },
  {
   "cell_type": "code",
   "execution_count": null,
   "metadata": {},
   "outputs": [],
   "source": []
  }
 ],
 "metadata": {
  "kernelspec": {
   "display_name": "Python 3",
   "language": "python",
   "name": "python3"
  },
  "language_info": {
   "codemirror_mode": {
    "name": "ipython",
    "version": 3
   },
   "file_extension": ".py",
   "mimetype": "text/x-python",
   "name": "python",
   "nbconvert_exporter": "python",
   "pygments_lexer": "ipython3",
   "version": "3.12.0"
  }
 },
 "nbformat": 4,
 "nbformat_minor": 2
}
